{
  "nbformat": 4,
  "nbformat_minor": 0,
  "metadata": {
    "colab": {
      "provenance": [],
      "authorship_tag": "ABX9TyPskqjF+KtMDrK3kUgbH3cy",
      "include_colab_link": true
    },
    "kernelspec": {
      "name": "python3",
      "display_name": "Python 3"
    },
    "language_info": {
      "name": "python"
    }
  },
  "cells": [
    {
      "cell_type": "markdown",
      "metadata": {
        "id": "view-in-github",
        "colab_type": "text"
      },
      "source": [
        "<a href=\"https://colab.research.google.com/github/Mburu-Elvis/mnist_fashion-classificaton/blob/main/transfer_learning.ipynb\" target=\"_parent\"><img src=\"https://colab.research.google.com/assets/colab-badge.svg\" alt=\"Open In Colab\"/></a>"
      ]
    },
    {
      "cell_type": "markdown",
      "source": [
        "## Pre-trained models\n"
      ],
      "metadata": {
        "id": "EdIsrB7W6IH1"
      }
    },
    {
      "cell_type": "code",
      "source": [
        "from google.colab import drive\n",
        "drive.mount('/content/drive')"
      ],
      "metadata": {
        "colab": {
          "base_uri": "https://localhost:8080/"
        },
        "id": "WM37BqkT8diU",
        "outputId": "f570d359-2212-4859-bb9b-137cfa5926ed"
      },
      "execution_count": null,
      "outputs": [
        {
          "output_type": "stream",
          "name": "stdout",
          "text": [
            "Drive already mounted at /content/drive; to attempt to forcibly remount, call drive.mount(\"/content/drive\", force_remount=True).\n"
          ]
        }
      ]
    },
    {
      "cell_type": "markdown",
      "source": [
        "## Importing Libraries"
      ],
      "metadata": {
        "id": "R4BZIuwU8wjU"
      }
    },
    {
      "cell_type": "code",
      "source": [
        "import warnings\n",
        "warnings.simplefilter(action=\"ignore\", category=FutureWarning)\n",
        "\n",
        "%tensorflow_version 2.x\n",
        "import tensorflow as tf\n",
        "\n",
        "import numpy as np\n",
        "import matplotlib.pyplot as plt\n",
        "import os\n",
        "import subprocess\n",
        "import cv2\n",
        "import json\n",
        "import requests\n",
        "from tqdm import tqdm\n",
        "\n",
        "print(tf.__version__)"
      ],
      "metadata": {
        "colab": {
          "base_uri": "https://localhost:8080/"
        },
        "id": "kXdd2hHz8rlO",
        "outputId": "4a6a30e9-1c09-47cf-bbbe-89928779c724"
      },
      "execution_count": null,
      "outputs": [
        {
          "output_type": "stream",
          "name": "stdout",
          "text": [
            "Colab only includes TensorFlow 2.x; %tensorflow_version has no effect.\n",
            "2.12.0\n"
          ]
        }
      ]
    },
    {
      "cell_type": "markdown",
      "source": [
        "## Building and Deploying an Apparel Classifier\n",
        "\n",
        "We'll be using the in-built Fashion MNIST dataset\n",
        "It hass 60,000 training set and 10,000 test set\n",
        "\n",
        "\n",
        "It has 10 label/classes.\n",
        "\n",
        "We want to classify clothing in accordance to its class"
      ],
      "metadata": {
        "id": "-2JjLWMf9zRU"
      }
    },
    {
      "cell_type": "markdown",
      "source": [
        "## Loading the dataset"
      ],
      "metadata": {
        "id": "1Ddy61fl-1cm"
      }
    },
    {
      "cell_type": "code",
      "source": [
        "fashion_mnist = tf.keras.datasets.fashion_mnist\n",
        "(train_images, train_labels), (test_images, test_labels) = fashion_mnist.load_data()\n",
        "\n",
        "class_names = ['T-shirt/top', 'Trouser', 'Pullover', 'Dress', 'Coat',\n",
        "               'Sandal', 'Skirt', 'Sneaker', 'Bag', 'Ankle boot']\n",
        "\n",
        "print('\\nTrain_images.shape: {} of {}'.format(train_images.shape, train_images.dtype))\n",
        "print('Test_images.shape: {} of {}'.format(test_images.shape, test_images.dtype))"
      ],
      "metadata": {
        "colab": {
          "base_uri": "https://localhost:8080/"
        },
        "id": "gEOxk5x39bO2",
        "outputId": "9a1cbb89-fcf5-4472-8208-83ea18de3d27"
      },
      "execution_count": null,
      "outputs": [
        {
          "output_type": "stream",
          "name": "stdout",
          "text": [
            "\n",
            "Train_images.shape: (60000, 28, 28) of uint8\n",
            "Test_images.shape: (10000, 28, 28) of uint8\n"
          ]
        }
      ]
    },
    {
      "cell_type": "markdown",
      "source": [
        "## Training a simple CNN\n",
        "\n",
        "### Reshaping the Image data for Modelling"
      ],
      "metadata": {
        "id": "MUtdwD--AqYa"
      }
    },
    {
      "cell_type": "code",
      "source": [
        "train_images_gr = train_images.reshape(train_images.shape[0], 28, 28, 1)\n",
        "test_images_gr = test_images.reshape(test_images.shape[0], 28, 28, 1)\n",
        "\n",
        "\n",
        "print('Train_images.shape: {} of {}'.format(train_images_gr.shape, train_images_gr.dtype))\n",
        "print('Test_images.shape: {} of {}'.format(test_images_gr.shape, test_images_gr.dtype))"
      ],
      "metadata": {
        "colab": {
          "base_uri": "https://localhost:8080/"
        },
        "id": "z3DOmUOmAVbz",
        "outputId": "0a89473d-db39-43a1-c73b-f4af360278bf"
      },
      "execution_count": null,
      "outputs": [
        {
          "output_type": "stream",
          "name": "stdout",
          "text": [
            "Train_images.shape: (60000, 28, 28, 1) of uint8\n",
            "Test_images.shape: (10000, 28, 28, 1) of uint8\n"
          ]
        }
      ]
    },
    {
      "cell_type": "markdown",
      "source": [
        "## Visualize some images"
      ],
      "metadata": {
        "id": "weoeSa_hBrXc"
      }
    },
    {
      "cell_type": "code",
      "source": [
        "fig, ax = plt.subplots(2, 5, figsize=(12,6))\n",
        "c = 0\n",
        "for i in range(10):\n",
        "  idx = i // 5\n",
        "  idy = i % 5\n",
        "  ax[idx, idy].imshow(train_images_gr[i].reshape(28, 28))\n",
        "  ax[idx, idy].set_title(class_names[train_labels[i]])\n"
      ],
      "metadata": {
        "colab": {
          "base_uri": "https://localhost:8080/",
          "height": 495
        },
        "id": "hLX05HF5BaxM",
        "outputId": "670bc74c-2e84-42ae-9915-a58358fdf5e4"
      },
      "execution_count": null,
      "outputs": [
        {
          "output_type": "display_data",
          "data": {
            "text/plain": [
              "<Figure size 1200x600 with 10 Axes>"
            ],
            "image/png": "[encoded data removed]"
          },
          "metadata": {}
        }
      ]
    },
    {
      "cell_type": "markdown",
      "source": [
        "## Build a CNN Architecture"
      ],
      "metadata": {
        "id": "ZtciZirRPrqx"
      }
    },
    {
      "cell_type": "code",
      "source": [
        "from ast import In\n",
        "# define input shape\n",
        "INPUT_SHAPE = (28, 28, 1)\n",
        "\n",
        "# define sequential model\n",
        "model = tf.keras.Sequential()\n",
        "\n",
        "# define conv-pool layers set 1\n",
        "model.add(tf.keras.layers.Conv2D(filters=16, kernel_size=(3,3), strides=(1,1),\n",
        "                                 activation='relu', padding='valid', input_shape = INPUT_SHAPE))\n",
        "model.add(tf.keras.layers.MaxPooling2D(pool_size=(2, 2)))\n",
        "\n",
        "# define conv-pool layers - set 2\n",
        "model.add(tf.keras.layers.Conv2D(filters=32, kernel_size=(3, 3), strides=(1, 1),\n",
        "                          activation='relu', padding='valid', input_shape = INPUT_SHAPE))\n",
        "model.add(tf.keras.layers.MaxPooling2D(pool_size = (2, 2)))\n",
        "\n",
        "# add flatten layer\n",
        "model.add(tf.keras.layers.Flatten())\n",
        "\n",
        "# add dense layers with some dropout\n",
        "model.add(tf.keras.layers.Dense(256, activation='relu'))\n",
        "model.add(tf.keras.layers.Dropout(rate=0.3))\n",
        "model.add(tf.keras.layers.Dense(256, activation='relu'))\n",
        "model.add(tf.keras.layers.Dropout(rate=0.3))\n",
        "\n",
        "# add outplut layer\n",
        "model.add(tf.keras.layers.Dense(10, activation=\"softmax\"))\n",
        "\n",
        "# compile the model\n",
        "model.compile(optimizer='adam',\n",
        "              loss=\"sparse_categorical_crossentropy\",\n",
        "              metrics=['accuracy'])\n",
        "\n",
        "# viem model layers\n",
        "model.summary()"
      ],
      "metadata": {
        "id": "4Ohsp2tjCRrj",
        "colab": {
          "base_uri": "https://localhost:8080/"
        },
        "outputId": "f8354ff9-8d92-40ad-9dbf-6056fd80d0c8"
      },
      "execution_count": null,
      "outputs": [
        {
          "output_type": "stream",
          "name": "stdout",
          "text": [
            "Model: \"sequential_1\"\n",
            "_________________________________________________________________\n",
            " Layer (type)                Output Shape              Param #   \n",
            "=================================================================\n",
            " conv2d_2 (Conv2D)           (None, 26, 26, 16)        160       \n",
            "                                                                 \n",
            " max_pooling2d_2 (MaxPooling  (None, 13, 13, 16)       0         \n",
            " 2D)                                                             \n",
            "                                                                 \n",
            " conv2d_3 (Conv2D)           (None, 11, 11, 32)        4640      \n",
            "                                                                 \n",
            " max_pooling2d_3 (MaxPooling  (None, 5, 5, 32)         0         \n",
            " 2D)                                                             \n",
            "                                                                 \n",
            " flatten_1 (Flatten)         (None, 800)               0         \n",
            "                                                                 \n",
            " dense_1 (Dense)             (None, 256)               205056    \n",
            "                                                                 \n",
            " dropout (Dropout)           (None, 256)               0         \n",
            "                                                                 \n",
            " dense_2 (Dense)             (None, 256)               65792     \n",
            "                                                                 \n",
            " dropout_1 (Dropout)         (None, 256)               0         \n",
            "                                                                 \n",
            " dense_3 (Dense)             (None, 10)                2570      \n",
            "                                                                 \n",
            "=================================================================\n",
            "Total params: 278,218\n",
            "Trainable params: 278,218\n",
            "Non-trainable params: 0\n",
            "_________________________________________________________________\n"
          ]
        }
      ]
    },
    {
      "cell_type": "markdown",
      "source": [
        "## Model Training"
      ],
      "metadata": {
        "id": "2e6msgDBT2Eu"
      }
    },
    {
      "cell_type": "code",
      "source": [
        "EPOCHS = 100\n",
        "train_images_scaled = train_images_gr / 255.\n",
        "es_callback = tf.keras.callbacks.EarlyStopping(monitor='val_loss', patience = 2,\n",
        "                                               restore_best_weights=True,\n",
        "                                               verbose=1)\n",
        "\n",
        "history = model.fit(train_images_scaled, train_labels,\n",
        "                    batch_size=32,\n",
        "                    callbacks=es_callback,\n",
        "                    validation_split=0.1,\n",
        "                    epochs=EPOCHS,\n",
        "                    verbose=1)"
      ],
      "metadata": {
        "colab": {
          "base_uri": "https://localhost:8080/"
        },
        "id": "EvqwCZRYTWAy",
        "outputId": "33a79f48-83ed-4c34-a92f-df2fc52582e2"
      },
      "execution_count": null,
      "outputs": [
        {
          "output_type": "stream",
          "name": "stdout",
          "text": [
            "Epoch 1/100\n",
            "1688/1688 [==============================] - 48s 27ms/step - loss: 0.5441 - accuracy: 0.7997 - val_loss: 0.3605 - val_accuracy: 0.8680\n",
            "Epoch 2/100\n",
            "1688/1688 [==============================] - 43s 26ms/step - loss: 0.3610 - accuracy: 0.8684 - val_loss: 0.3159 - val_accuracy: 0.8807\n",
            "Epoch 3/100\n",
            "1688/1688 [==============================] - 45s 27ms/step - loss: 0.3104 - accuracy: 0.8859 - val_loss: 0.2980 - val_accuracy: 0.8885\n",
            "Epoch 4/100\n",
            "1688/1688 [==============================] - 43s 26ms/step - loss: 0.2822 - accuracy: 0.8953 - val_loss: 0.2788 - val_accuracy: 0.8960\n",
            "Epoch 5/100\n",
            "1688/1688 [==============================] - 43s 26ms/step - loss: 0.2584 - accuracy: 0.9036 - val_loss: 0.2761 - val_accuracy: 0.8985\n",
            "Epoch 6/100\n",
            "1688/1688 [==============================] - 43s 26ms/step - loss: 0.2394 - accuracy: 0.9103 - val_loss: 0.2686 - val_accuracy: 0.9007\n",
            "Epoch 7/100\n",
            "1688/1688 [==============================] - 43s 25ms/step - loss: 0.2240 - accuracy: 0.9164 - val_loss: 0.2656 - val_accuracy: 0.9025\n",
            "Epoch 8/100\n",
            "1688/1688 [==============================] - 43s 26ms/step - loss: 0.2112 - accuracy: 0.9206 - val_loss: 0.2505 - val_accuracy: 0.9113\n",
            "Epoch 9/100\n",
            "1688/1688 [==============================] - 42s 25ms/step - loss: 0.1957 - accuracy: 0.9252 - val_loss: 0.2716 - val_accuracy: 0.9012\n",
            "Epoch 10/100\n",
            "1688/1688 [==============================] - ETA: 0s - loss: 0.1871 - accuracy: 0.9298Restoring model weights from the end of the best epoch: 8.\n",
            "1688/1688 [==============================] - 43s 26ms/step - loss: 0.1871 - accuracy: 0.9298 - val_loss: 0.2687 - val_accuracy: 0.9058\n",
            "Epoch 10: early stopping\n"
          ]
        }
      ]
    },
    {
      "cell_type": "code",
      "source": [
        "model.save(\"model.hdf5\")"
      ],
      "metadata": {
        "id": "Ve-2r_YHUoX0"
      },
      "execution_count": null,
      "outputs": []
    },
    {
      "cell_type": "code",
      "source": [],
      "metadata": {
        "id": "Sq_3yqFkjs-B"
      },
      "execution_count": null,
      "outputs": []
    }
  ]
}