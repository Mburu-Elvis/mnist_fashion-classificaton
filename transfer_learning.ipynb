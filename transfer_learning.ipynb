{
  "nbformat": 4,
  "nbformat_minor": 0,
  "metadata": {
    "colab": {
      "provenance": [],
      "authorship_tag": "ABX9TyMZwiAB2Hi1gDFsvIkBvvLe",
      "include_colab_link": true
    },
    "kernelspec": {
      "name": "python3",
      "display_name": "Python 3"
    },
    "language_info": {
      "name": "python"
    }
  },
  "cells": [
    {
      "cell_type": "markdown",
      "metadata": {
        "id": "view-in-github",
        "colab_type": "text"
      },
      "source": [
        "<a href=\"https://colab.research.google.com/github/Mburu-Elvis/mnist_fashion-classificaton/blob/main/transfer_learning.ipynb\" target=\"_parent\"><img src=\"https://colab.research.google.com/assets/colab-badge.svg\" alt=\"Open In Colab\"/></a>"
      ]
    },
    {
      "cell_type": "markdown",
      "source": [
        "## Pre-trained models\n"
      ],
      "metadata": {
        "id": "EdIsrB7W6IH1"
      }
    },
    {
      "cell_type": "code",
      "source": [
        "from google.colab import drive\n",
        "drive.mount('/content/drive')"
      ],
      "metadata": {
        "colab": {
          "base_uri": "https://localhost:8080/"
        },
        "id": "WM37BqkT8diU",
        "outputId": "ebc3a3a7-d02b-4d56-c5d0-0a98fc603bbd"
      },
      "execution_count": 1,
      "outputs": [
        {
          "output_type": "stream",
          "name": "stdout",
          "text": [
            "Drive already mounted at /content/drive; to attempt to forcibly remount, call drive.mount(\"/content/drive\", force_remount=True).\n"
          ]
        }
      ]
    },
    {
      "cell_type": "markdown",
      "source": [
        "## Importing Libraries"
      ],
      "metadata": {
        "id": "R4BZIuwU8wjU"
      }
    },
    {
      "cell_type": "code",
      "source": [
        "import warnings\n",
        "warnings.simplefilter(action=\"ignore\", category=FutureWarning)\n",
        "\n",
        "%tensorflow_version 2.x\n",
        "import tensorflow as tf\n",
        "\n",
        "import numpy as np\n",
        "import pandas as pd\n",
        "import matplotlib.pyplot as plt\n",
        "\n",
        "import os\n",
        "import subprocess\n",
        "import cv2\n",
        "import json\n",
        "import requests\n",
        "from tqdm import tqdm\n",
        "\n",
        "print(tf.__version__)"
      ],
      "metadata": {
        "colab": {
          "base_uri": "https://localhost:8080/"
        },
        "id": "kXdd2hHz8rlO",
        "outputId": "f5b4a1af-4fcb-4c1d-cc32-4e414921ad6b"
      },
      "execution_count": 2,
      "outputs": [
        {
          "output_type": "stream",
          "name": "stdout",
          "text": [
            "Colab only includes TensorFlow 2.x; %tensorflow_version has no effect.\n",
            "2.12.0\n"
          ]
        }
      ]
    },
    {
      "cell_type": "markdown",
      "source": [
        "## Building and Deploying an Apparel Classifier\n",
        "\n",
        "We'll be using the in-built Fashion MNIST dataset\n",
        "It hass 60,000 training set and 10,000 test set\n",
        "\n",
        "\n",
        "It has 10 label/classes.\n",
        "\n",
        "We want to classify clothing in accordance to its class"
      ],
      "metadata": {
        "id": "-2JjLWMf9zRU"
      }
    },
    {
      "cell_type": "markdown",
      "source": [
        "## Loading the dataset"
      ],
      "metadata": {
        "id": "1Ddy61fl-1cm"
      }
    },
    {
      "cell_type": "code",
      "source": [
        "fashion_mnist = tf.keras.datasets.fashion_mnist\n",
        "(train_images, train_labels), (test_images, test_labels) = fashion_mnist.load_data()\n",
        "\n",
        "class_names = ['T-shirt/top', 'Trouser', 'Pullover', 'Dress', 'Coat',\n",
        "               'Sandal', 'Skirt', 'Sneaker', 'Bag', 'Ankle boot']\n",
        "\n",
        "print('\\nTrain_images.shape: {} of {}'.format(train_images.shape, train_images.dtype))\n",
        "print('Test_images.shape: {} of {}'.format(test_images.shape, test_images.dtype))"
      ],
      "metadata": {
        "colab": {
          "base_uri": "https://localhost:8080/"
        },
        "id": "gEOxk5x39bO2",
        "outputId": "5ce9f0a6-2f33-41c3-df5b-a392f432867d"
      },
      "execution_count": 3,
      "outputs": [
        {
          "output_type": "stream",
          "name": "stdout",
          "text": [
            "\n",
            "Train_images.shape: (60000, 28, 28) of uint8\n",
            "Test_images.shape: (10000, 28, 28) of uint8\n"
          ]
        }
      ]
    },
    {
      "cell_type": "markdown",
      "source": [
        "## Training a simple CNN\n",
        "\n",
        "### Reshaping the Image data for Modelling"
      ],
      "metadata": {
        "id": "MUtdwD--AqYa"
      }
    },
    {
      "cell_type": "code",
      "source": [
        "train_images_gr = train_images.reshape(train_images.shape[0], 28, 28, 1)\n",
        "test_images_gr = test_images.reshape(test_images.shape[0], 28, 28, 1)\n",
        "\n",
        "\n",
        "print('Train_images.shape: {} of {}'.format(train_images_gr.shape, train_images_gr.dtype))\n",
        "print('Test_images.shape: {} of {}'.format(test_images_gr.shape, test_images_gr.dtype))"
      ],
      "metadata": {
        "colab": {
          "base_uri": "https://localhost:8080/"
        },
        "id": "z3DOmUOmAVbz",
        "outputId": "d6c9ca75-3178-44ac-d760-0cad94743f4e"
      },
      "execution_count": 4,
      "outputs": [
        {
          "output_type": "stream",
          "name": "stdout",
          "text": [
            "Train_images.shape: (60000, 28, 28, 1) of uint8\n",
            "Test_images.shape: (10000, 28, 28, 1) of uint8\n"
          ]
        }
      ]
    },
    {
      "cell_type": "markdown",
      "source": [
        "## Visualize some images"
      ],
      "metadata": {
        "id": "weoeSa_hBrXc"
      }
    },
    {
      "cell_type": "code",
      "source": [
        "fig, ax = plt.subplots(2, 5, figsize=(12,6))\n",
        "c = 0\n",
        "for i in range(10):\n",
        "  idx = i // 5\n",
        "  idy = i % 5\n",
        "  ax[idx, idy].imshow(train_images_gr[i].reshape(28, 28))\n",
        "  ax[idx, idy].set_title(class_names[train_labels[i]])\n"
      ],
      "metadata": {
        "colab": {
          "base_uri": "https://localhost:8080/",
          "height": 478
        },
        "id": "hLX05HF5BaxM",
        "outputId": "80413e3a-9742-49e6-d1fb-b9a403ddda5b"
      },
      "execution_count": 5,
      "outputs": [
        {
          "output_type": "display_data",
          "data": {
            "text/plain": [
              "<Figure size 1200x600 with 10 Axes>"
            ],
            "image/png": "[encoded data removed]"
          },
          "metadata": {}
        }
      ]
    },
    {
      "cell_type": "markdown",
      "source": [
        "## Build a CNN Architecture"
      ],
      "metadata": {
        "id": "ZtciZirRPrqx"
      }
    },
    {
      "cell_type": "code",
      "source": [
        "from ast import In\n",
        "# define input shape\n",
        "INPUT_SHAPE = (28, 28, 1)\n",
        "\n",
        "# define sequential model\n",
        "model = tf.keras.Sequential()\n",
        "\n",
        "# define conv-pool layers set 1\n",
        "model.add(tf.keras.layers.Conv2D(filters=16, kernel_size=(3,3), strides=(1,1),\n",
        "                                 activation='relu', padding='valid', input_shape = INPUT_SHAPE))\n",
        "model.add(tf.keras.layers.MaxPooling2D(pool_size=(2, 2)))\n",
        "\n",
        "# define conv-pool layers - set 2\n",
        "model.add(tf.keras.layers.Conv2D(filters=32, kernel_size=(3, 3), strides=(1, 1),\n",
        "                          activation='relu', padding='valid', input_shape = INPUT_SHAPE))\n",
        "model.add(tf.keras.layers.MaxPooling2D(pool_size = (2, 2)))\n",
        "\n",
        "# add flatten layer\n",
        "model.add(tf.keras.layers.Flatten())\n",
        "\n",
        "# add dense layers with some dropout\n",
        "model.add(tf.keras.layers.Dense(256, activation='relu'))\n",
        "model.add(tf.keras.layers.Dropout(rate=0.3))\n",
        "model.add(tf.keras.layers.Dense(256, activation='relu'))\n",
        "model.add(tf.keras.layers.Dropout(rate=0.3))\n",
        "\n",
        "# add outplut layer\n",
        "model.add(tf.keras.layers.Dense(10, activation=\"softmax\"))\n",
        "\n",
        "# compile the model\n",
        "model.compile(optimizer='adam',\n",
        "              loss=\"sparse_categorical_crossentropy\",\n",
        "              metrics=['accuracy'])\n",
        "\n",
        "# viem model layers\n",
        "model.summary()"
      ],
      "metadata": {
        "id": "4Ohsp2tjCRrj",
        "colab": {
          "base_uri": "https://localhost:8080/"
        },
        "outputId": "8ef92350-c729-4a8b-d41a-f4203a891454"
      },
      "execution_count": 6,
      "outputs": [
        {
          "output_type": "stream",
          "name": "stdout",
          "text": [
            "Model: \"sequential\"\n",
            "_________________________________________________________________\n",
            " Layer (type)                Output Shape              Param #   \n",
            "=================================================================\n",
            " conv2d (Conv2D)             (None, 26, 26, 16)        160       \n",
            "                                                                 \n",
            " max_pooling2d (MaxPooling2D  (None, 13, 13, 16)       0         \n",
            " )                                                               \n",
            "                                                                 \n",
            " conv2d_1 (Conv2D)           (None, 11, 11, 32)        4640      \n",
            "                                                                 \n",
            " max_pooling2d_1 (MaxPooling  (None, 5, 5, 32)         0         \n",
            " 2D)                                                             \n",
            "                                                                 \n",
            " flatten (Flatten)           (None, 800)               0         \n",
            "                                                                 \n",
            " dense (Dense)               (None, 256)               205056    \n",
            "                                                                 \n",
            " dropout (Dropout)           (None, 256)               0         \n",
            "                                                                 \n",
            " dense_1 (Dense)             (None, 256)               65792     \n",
            "                                                                 \n",
            " dropout_1 (Dropout)         (None, 256)               0         \n",
            "                                                                 \n",
            " dense_2 (Dense)             (None, 10)                2570      \n",
            "                                                                 \n",
            "=================================================================\n",
            "Total params: 278,218\n",
            "Trainable params: 278,218\n",
            "Non-trainable params: 0\n",
            "_________________________________________________________________\n"
          ]
        }
      ]
    },
    {
      "cell_type": "markdown",
      "source": [
        "## Model Training"
      ],
      "metadata": {
        "id": "2e6msgDBT2Eu"
      }
    },
    {
      "cell_type": "code",
      "source": [
        "EPOCHS = 100\n",
        "train_images_scaled = train_images_gr / 255.\n",
        "es_callback = tf.keras.callbacks.EarlyStopping(monitor='val_loss', patience = 2,\n",
        "                                               restore_best_weights=True,\n",
        "                                               verbose=1)\n",
        "\n",
        "history = model.fit(train_images_scaled, train_labels,\n",
        "                    batch_size=32,\n",
        "                    callbacks=es_callback,\n",
        "                    validation_split=0.1,\n",
        "                    epochs=EPOCHS,\n",
        "                    verbose=1)"
      ],
      "metadata": {
        "colab": {
          "base_uri": "https://localhost:8080/"
        },
        "id": "EvqwCZRYTWAy",
        "outputId": "6b389fee-1c20-4b27-f11b-18fd30b95a1b"
      },
      "execution_count": 7,
      "outputs": [
        {
          "output_type": "stream",
          "name": "stdout",
          "text": [
            "Epoch 1/100\n",
            "1688/1688 [==============================] - 42s 24ms/step - loss: 0.5419 - accuracy: 0.8011 - val_loss: 0.3588 - val_accuracy: 0.8677\n",
            "Epoch 2/100\n",
            "1688/1688 [==============================] - 41s 24ms/step - loss: 0.3527 - accuracy: 0.8715 - val_loss: 0.3338 - val_accuracy: 0.8765\n",
            "Epoch 3/100\n",
            "1688/1688 [==============================] - 44s 26ms/step - loss: 0.3051 - accuracy: 0.8879 - val_loss: 0.2774 - val_accuracy: 0.8960\n",
            "Epoch 4/100\n",
            "1688/1688 [==============================] - 41s 24ms/step - loss: 0.2773 - accuracy: 0.8964 - val_loss: 0.2568 - val_accuracy: 0.9062\n",
            "Epoch 5/100\n",
            "1688/1688 [==============================] - 41s 24ms/step - loss: 0.2543 - accuracy: 0.9063 - val_loss: 0.2814 - val_accuracy: 0.8978\n",
            "Epoch 6/100\n",
            "1686/1688 [============================>.] - ETA: 0s - loss: 0.2345 - accuracy: 0.9135Restoring model weights from the end of the best epoch: 4.\n",
            "1688/1688 [==============================] - 41s 24ms/step - loss: 0.2345 - accuracy: 0.9135 - val_loss: 0.2644 - val_accuracy: 0.9003\n",
            "Epoch 6: early stopping\n"
          ]
        }
      ]
    },
    {
      "cell_type": "markdown",
      "source": [
        "## Plotting Learning Curves"
      ],
      "metadata": {
        "id": "h08uFCHVI-CC"
      }
    },
    {
      "cell_type": "code",
      "source": [
        "fig, ax = plt.subplots(1, 2, figsize=(10, 4))\n",
        "\n",
        "history_df = pd.DataFrame(history.history)\n",
        "history_df[['loss', 'val_loss']].plot(kind='line', ax=ax[0])\n",
        "history_df[['accuracy', 'val_accuracy']].plot(kind='line', ax=ax[1])"
      ],
      "metadata": {
        "id": "iv-jhX-IJC4p",
        "colab": {
          "base_uri": "https://localhost:8080/",
          "height": 385
        },
        "outputId": "c6f12991-e258-49d5-81bc-950316423ba6"
      },
      "execution_count": 8,
      "outputs": [
        {
          "output_type": "execute_result",
          "data": {
            "text/plain": [
              "<Axes: >"
            ]
          },
          "metadata": {},
          "execution_count": 8
        },
        {
          "output_type": "display_data",
          "data": {
            "text/plain": [
              "<Figure size 1000x400 with 2 Axes>"
            ],
            "image/png": "[encoded data removed]"
          },
          "metadata": {}
        }
      ]
    },
    {
      "cell_type": "markdown",
      "source": [
        "## Evaluate Model Performance"
      ],
      "metadata": {
        "id": "1JdzMEYFKD-e"
      }
    },
    {
      "cell_type": "code",
      "source": [
        "test_images_scaled = test_images_gr / 255.\n",
        "predictions = model.predict(test_images_scaled)\n",
        "predictions[:5]"
      ],
      "metadata": {
        "colab": {
          "base_uri": "https://localhost:8080/"
        },
        "id": "ohlBQh2cKIPl",
        "outputId": "cee56967-7260-473e-e1b2-074810df7413"
      },
      "execution_count": 9,
      "outputs": [
        {
          "output_type": "stream",
          "name": "stdout",
          "text": [
            "313/313 [==============================] - 2s 7ms/step\n"
          ]
        },
        {
          "output_type": "execute_result",
          "data": {
            "text/plain": [
              "array([[1.4885818e-07, 1.3488574e-07, 2.3901714e-07, 6.8112831e-07,\n",
              "        3.7676904e-07, 1.0389910e-04, 5.1118622e-07, 3.0527408e-03,\n",
              "        4.0367487e-07, 9.9684089e-01],\n",
              "       [8.1107835e-08, 4.3676673e-12, 9.9995583e-01, 1.1581421e-09,\n",
              "        6.5239883e-06, 3.7323914e-14, 3.7493333e-05, 5.8868100e-15,\n",
              "        8.5283132e-09, 8.9401631e-14],\n",
              "       [7.3086761e-17, 9.9999994e-01, 1.5019330e-16, 3.7655616e-15,\n",
              "        5.2010147e-14, 2.3509713e-21, 8.0256366e-16, 1.7388604e-23,\n",
              "        3.5326625e-20, 2.3991332e-21],\n",
              "       [3.4593466e-14, 9.9999994e-01, 6.9794404e-14, 3.7450537e-12,\n",
              "        1.2905197e-11, 1.8545750e-17, 3.3528640e-13, 2.0317208e-19,\n",
              "        2.0137059e-17, 2.4666135e-17],\n",
              "       [1.8772273e-01, 1.5982491e-04, 1.2656653e-01, 4.6295966e-03,\n",
              "        5.8791256e-03, 8.0743475e-06, 6.7444378e-01, 6.5869079e-07,\n",
              "        5.8381737e-04, 5.8971368e-06]], dtype=float32)"
            ]
          },
          "metadata": {},
          "execution_count": 9
        }
      ]
    },
    {
      "cell_type": "code",
      "source": [
        "prediction_labels = np.argmax(predictions, axis=1)\n",
        "prediction_labels[:5]"
      ],
      "metadata": {
        "colab": {
          "base_uri": "https://localhost:8080/"
        },
        "id": "xQTGfVdkKqnK",
        "outputId": "be825558-8c59-4e77-b0f3-f2ec1f62ee06"
      },
      "execution_count": 10,
      "outputs": [
        {
          "output_type": "execute_result",
          "data": {
            "text/plain": [
              "array([9, 2, 1, 1, 6])"
            ]
          },
          "metadata": {},
          "execution_count": 10
        }
      ]
    },
    {
      "cell_type": "code",
      "source": [
        "from sklearn.metrics import confusion_matrix, classification_report\n",
        "import pandas as pd\n",
        "\n",
        "print(classification_report(test_labels, prediction_labels, target_names=class_names))\n",
        "pd.DataFrame(confusion_matrix(test_labels, prediction_labels), index=class_names, columns=class_names)"
      ],
      "metadata": {
        "colab": {
          "base_uri": "https://localhost:8080/",
          "height": 658
        },
        "id": "OkH9LBVlKKWU",
        "outputId": "1e2affaa-6e10-4416-dfeb-27cdf238432e"
      },
      "execution_count": 11,
      "outputs": [
        {
          "output_type": "stream",
          "name": "stdout",
          "text": [
            "              precision    recall  f1-score   support\n",
            "\n",
            " T-shirt/top       0.85      0.86      0.85      1000\n",
            "     Trouser       0.99      0.98      0.98      1000\n",
            "    Pullover       0.79      0.90      0.84      1000\n",
            "       Dress       0.92      0.89      0.90      1000\n",
            "        Coat       0.83      0.84      0.84      1000\n",
            "      Sandal       0.99      0.97      0.98      1000\n",
            "       Skirt       0.76      0.67      0.71      1000\n",
            "     Sneaker       0.95      0.96      0.96      1000\n",
            "         Bag       0.98      0.98      0.98      1000\n",
            "  Ankle boot       0.95      0.97      0.96      1000\n",
            "\n",
            "    accuracy                           0.90     10000\n",
            "   macro avg       0.90      0.90      0.90     10000\n",
            "weighted avg       0.90      0.90      0.90     10000\n",
            "\n"
          ]
        },
        {
          "output_type": "execute_result",
          "data": {
            "text/plain": [
              "             T-shirt/top  Trouser  Pullover  Dress  Coat  Sandal  Skirt  \\\n",
              "T-shirt/top          857        1        32     13     5       1     86   \n",
              "Trouser                1      981         0     13     3       0      0   \n",
              "Pullover               8        1       896     10    42       0     41   \n",
              "Dress                 19        8        13    886    39       0     33   \n",
              "Coat                   1        1        80     23   844       0     50   \n",
              "Sandal                 0        0         0      0     0     970      1   \n",
              "Skirt                120        1       104     18    77       0    667   \n",
              "Sneaker                0        0         0      0     0       8      0   \n",
              "Bag                    3        1         4      1     2       2      3   \n",
              "Ankle boot             0        0         0      0     0       3      1   \n",
              "\n",
              "             Sneaker  Bag  Ankle boot  \n",
              "T-shirt/top        0    5           0  \n",
              "Trouser            0    2           0  \n",
              "Pullover           0    2           0  \n",
              "Dress              0    2           0  \n",
              "Coat               0    1           0  \n",
              "Sandal            18    0          11  \n",
              "Skirt              0   13           0  \n",
              "Sneaker          958    0          34  \n",
              "Bag                5  977           2  \n",
              "Ankle boot        23    0         973  "
            ],
            "text/html": [
              "\n",
              "  <div id=\"df-0a9c127b-bd20-427b-b70e-d0562ca3b2f9\">\n",
              "    <div class=\"colab-df-container\">\n",
              "      <div>\n",
              "<style scoped>\n",
              "    .dataframe tbody tr th:only-of-type {\n",
              "        vertical-align: middle;\n",
              "    }\n",
              "\n",
              "    .dataframe tbody tr th {\n",
              "        vertical-align: top;\n",
              "    }\n",
              "\n",
              "    .dataframe thead th {\n",
              "        text-align: right;\n",
              "    }\n",
              "</style>\n",
              "<table border=\"1\" class=\"dataframe\">\n",
              "  <thead>\n",
              "    <tr style=\"text-align: right;\">\n",
              "      <th></th>\n",
              "      <th>T-shirt/top</th>\n",
              "      <th>Trouser</th>\n",
              "      <th>Pullover</th>\n",
              "      <th>Dress</th>\n",
              "      <th>Coat</th>\n",
              "      <th>Sandal</th>\n",
              "      <th>Skirt</th>\n",
              "      <th>Sneaker</th>\n",
              "      <th>Bag</th>\n",
              "      <th>Ankle boot</th>\n",
              "    </tr>\n",
              "  </thead>\n",
              "  <tbody>\n",
              "    <tr>\n",
              "      <th>T-shirt/top</th>\n",
              "      <td>857</td>\n",
              "      <td>1</td>\n",
              "      <td>32</td>\n",
              "      <td>13</td>\n",
              "      <td>5</td>\n",
              "      <td>1</td>\n",
              "      <td>86</td>\n",
              "      <td>0</td>\n",
              "      <td>5</td>\n",
              "      <td>0</td>\n",
              "    </tr>\n",
              "    <tr>\n",
              "      <th>Trouser</th>\n",
              "      <td>1</td>\n",
              "      <td>981</td>\n",
              "      <td>0</td>\n",
              "      <td>13</td>\n",
              "      <td>3</td>\n",
              "      <td>0</td>\n",
              "      <td>0</td>\n",
              "      <td>0</td>\n",
              "      <td>2</td>\n",
              "      <td>0</td>\n",
              "    </tr>\n",
              "    <tr>\n",
              "      <th>Pullover</th>\n",
              "      <td>8</td>\n",
              "      <td>1</td>\n",
              "      <td>896</td>\n",
              "      <td>10</td>\n",
              "      <td>42</td>\n",
              "      <td>0</td>\n",
              "      <td>41</td>\n",
              "      <td>0</td>\n",
              "      <td>2</td>\n",
              "      <td>0</td>\n",
              "    </tr>\n",
              "    <tr>\n",
              "      <th>Dress</th>\n",
              "      <td>19</td>\n",
              "      <td>8</td>\n",
              "      <td>13</td>\n",
              "      <td>886</td>\n",
              "      <td>39</td>\n",
              "      <td>0</td>\n",
              "      <td>33</td>\n",
              "      <td>0</td>\n",
              "      <td>2</td>\n",
              "      <td>0</td>\n",
              "    </tr>\n",
              "    <tr>\n",
              "      <th>Coat</th>\n",
              "      <td>1</td>\n",
              "      <td>1</td>\n",
              "      <td>80</td>\n",
              "      <td>23</td>\n",
              "      <td>844</td>\n",
              "      <td>0</td>\n",
              "      <td>50</td>\n",
              "      <td>0</td>\n",
              "      <td>1</td>\n",
              "      <td>0</td>\n",
              "    </tr>\n",
              "    <tr>\n",
              "      <th>Sandal</th>\n",
              "      <td>0</td>\n",
              "      <td>0</td>\n",
              "      <td>0</td>\n",
              "      <td>0</td>\n",
              "      <td>0</td>\n",
              "      <td>970</td>\n",
              "      <td>1</td>\n",
              "      <td>18</td>\n",
              "      <td>0</td>\n",
              "      <td>11</td>\n",
              "    </tr>\n",
              "    <tr>\n",
              "      <th>Skirt</th>\n",
              "      <td>120</td>\n",
              "      <td>1</td>\n",
              "      <td>104</td>\n",
              "      <td>18</td>\n",
              "      <td>77</td>\n",
              "      <td>0</td>\n",
              "      <td>667</td>\n",
              "      <td>0</td>\n",
              "      <td>13</td>\n",
              "      <td>0</td>\n",
              "    </tr>\n",
              "    <tr>\n",
              "      <th>Sneaker</th>\n",
              "      <td>0</td>\n",
              "      <td>0</td>\n",
              "      <td>0</td>\n",
              "      <td>0</td>\n",
              "      <td>0</td>\n",
              "      <td>8</td>\n",
              "      <td>0</td>\n",
              "      <td>958</td>\n",
              "      <td>0</td>\n",
              "      <td>34</td>\n",
              "    </tr>\n",
              "    <tr>\n",
              "      <th>Bag</th>\n",
              "      <td>3</td>\n",
              "      <td>1</td>\n",
              "      <td>4</td>\n",
              "      <td>1</td>\n",
              "      <td>2</td>\n",
              "      <td>2</td>\n",
              "      <td>3</td>\n",
              "      <td>5</td>\n",
              "      <td>977</td>\n",
              "      <td>2</td>\n",
              "    </tr>\n",
              "    <tr>\n",
              "      <th>Ankle boot</th>\n",
              "      <td>0</td>\n",
              "      <td>0</td>\n",
              "      <td>0</td>\n",
              "      <td>0</td>\n",
              "      <td>0</td>\n",
              "      <td>3</td>\n",
              "      <td>1</td>\n",
              "      <td>23</td>\n",
              "      <td>0</td>\n",
              "      <td>973</td>\n",
              "    </tr>\n",
              "  </tbody>\n",
              "</table>\n",
              "</div>\n",
              "      <button class=\"colab-df-convert\" onclick=\"convertToInteractive('df-0a9c127b-bd20-427b-b70e-d0562ca3b2f9')\"\n",
              "              title=\"Convert this dataframe to an interactive table.\"\n",
              "              style=\"display:none;\">\n",
              "        \n",
              "  <svg xmlns=\"http://www.w3.org/2000/svg\" height=\"24px\"viewBox=\"0 0 24 24\"\n",
              "       width=\"24px\">\n",
              "    <path d=\"M0 0h24v24H0V0z\" fill=\"none\"/>\n",
              "    <path d=\"M18.56 5.44l.94 2.06.94-2.06 2.06-.94-2.06-.94-.94-2.06-.94 2.06-2.06.94zm-11 1L8.5 8.5l.94-2.06 2.06-.94-2.06-.94L8.5 2.5l-.94 2.06-2.06.94zm10 10l.94 2.06.94-2.06 2.06-.94-2.06-.94-.94-2.06-.94 2.06-2.06.94z\"/><path d=\"M17.41 7.96l-1.37-1.37c-.4-.4-.92-.59-1.43-.59-.52 0-1.04.2-1.43.59L10.3 9.45l-7.72 7.72c-.78.78-.78 2.05 0 2.83L4 21.41c.39.39.9.59 1.41.59.51 0 1.02-.2 1.41-.59l7.78-7.78 2.81-2.81c.8-.78.8-2.07 0-2.86zM5.41 20L4 18.59l7.72-7.72 1.47 1.35L5.41 20z\"/>\n",
              "  </svg>\n",
              "      </button>\n",
              "      \n",
              "  <style>\n",
              "    .colab-df-container {\n",
              "      display:flex;\n",
              "      flex-wrap:wrap;\n",
              "      gap: 12px;\n",
              "    }\n",
              "\n",
              "    .colab-df-convert {\n",
              "      background-color: #E8F0FE;\n",
              "      border: none;\n",
              "      border-radius: 50%;\n",
              "      cursor: pointer;\n",
              "      display: none;\n",
              "      fill: #1967D2;\n",
              "      height: 32px;\n",
              "      padding: 0 0 0 0;\n",
              "      width: 32px;\n",
              "    }\n",
              "\n",
              "    .colab-df-convert:hover {\n",
              "      background-color: #E2EBFA;\n",
              "      box-shadow: 0px 1px 2px rgba(60, 64, 67, 0.3), 0px 1px 3px 1px rgba(60, 64, 67, 0.15);\n",
              "      fill: #174EA6;\n",
              "    }\n",
              "\n",
              "    [theme=dark] .colab-df-convert {\n",
              "      background-color: #3B4455;\n",
              "      fill: #D2E3FC;\n",
              "    }\n",
              "\n",
              "    [theme=dark] .colab-df-convert:hover {\n",
              "      background-color: #434B5C;\n",
              "      box-shadow: 0px 1px 3px 1px rgba(0, 0, 0, 0.15);\n",
              "      filter: drop-shadow(0px 1px 2px rgba(0, 0, 0, 0.3));\n",
              "      fill: #FFFFFF;\n",
              "    }\n",
              "  </style>\n",
              "\n",
              "      <script>\n",
              "        const buttonEl =\n",
              "          document.querySelector('#df-0a9c127b-bd20-427b-b70e-d0562ca3b2f9 button.colab-df-convert');\n",
              "        buttonEl.style.display =\n",
              "          google.colab.kernel.accessAllowed ? 'block' : 'none';\n",
              "\n",
              "        async function convertToInteractive(key) {\n",
              "          const element = document.querySelector('#df-0a9c127b-bd20-427b-b70e-d0562ca3b2f9');\n",
              "          const dataTable =\n",
              "            await google.colab.kernel.invokeFunction('convertToInteractive',\n",
              "                                                     [key], {});\n",
              "          if (!dataTable) return;\n",
              "\n",
              "          const docLinkHtml = 'Like what you see? Visit the ' +\n",
              "            '<a target=\"_blank\" href=https://colab.research.google.com/notebooks/data_table.ipynb>data table notebook</a>'\n",
              "            + ' to learn more about interactive tables.';\n",
              "          element.innerHTML = '';\n",
              "          dataTable['output_type'] = 'display_data';\n",
              "          await google.colab.output.renderOutput(dataTable, element);\n",
              "          const docLink = document.createElement('div');\n",
              "          docLink.innerHTML = docLinkHtml;\n",
              "          element.appendChild(docLink);\n",
              "        }\n",
              "      </script>\n",
              "    </div>\n",
              "  </div>\n",
              "  "
            ]
          },
          "metadata": {},
          "execution_count": 11
        }
      ]
    },
    {
      "cell_type": "code",
      "source": [
        "model.save(\"model.hdf5\")"
      ],
      "metadata": {
        "id": "Ve-2r_YHUoX0"
      },
      "execution_count": 13,
      "outputs": []
    },
    {
      "cell_type": "code",
      "source": [],
      "metadata": {
        "id": "Sq_3yqFkjs-B"
      },
      "execution_count": 12,
      "outputs": []
    }
  ]
}